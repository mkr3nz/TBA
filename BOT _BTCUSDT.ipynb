{
 "cells": [
  {
   "cell_type": "code",
   "execution_count": null,
   "metadata": {},
   "outputs": [],
   "source": [
    "from binance import Client\n",
    "import pandas as pd\n",
    "import asyncio\n",
    "import sqlalchemy\n",
    "import sched, time\n",
    "from binance import BinanceSocketManager\n",
    "import numpy\n",
    "import sqlite3"
   ]
  },
  {
   "cell_type": "code",
   "execution_count": null,
   "metadata": {},
   "outputs": [],
   "source": [
    "#API KEY TO CONNECT TO BINANCE_TEST_NET\n",
    "api_key = '8Y2R2t7fmc9NIQWiR2dusAoM27fBrlm0BWU8FupEYcUO1rnY49RvLLRt0FoTa60U'\n",
    "api_secret = '6HHeNMymyghzVVhBKopjZMIsdVCyPwGbzhryJmDZAeMmzdvX4pXdwYkLpCXUUXS4'"
   ]
  },
  {
   "cell_type": "code",
   "execution_count": null,
   "metadata": {},
   "outputs": [],
   "source": [
    "#LOAD BINANCE CLIENT + SOCKETMANAGER\n",
    "client = Client(api_key, api_secret, testnet=True)\n",
    "bsm = BinanceSocketManager(client)"
   ]
  },
  {
   "cell_type": "code",
   "execution_count": null,
   "metadata": {},
   "outputs": [],
   "source": [
    "#CREATE DATAFRAME FOR PRICE DATA\n",
    "def createframe(msg): \n",
    "    df = pd.DataFrame([msg])\n",
    "    df = df.loc[:,['s','E','p']]\n",
    "    df.columns = ['symbol','Time','Price']\n",
    "    df.Price = df.Price.astype(float)\n",
    "    df.Time = pd.to_datetime(df.Time, unit='ms')\n",
    "    return df"
   ]
  },
  {
   "cell_type": "code",
   "execution_count": null,
   "metadata": {},
   "outputs": [],
   "source": [
    "#LOAD SQL ENGINE / CONNECT TO SQL DATABASE\n",
    "engine_2 = sqlalchemy.create_engine('sqlite:///TraidsUSDTBUSD.db')"
   ]
  },
  {
   "cell_type": "code",
   "execution_count": null,
   "metadata": {},
   "outputs": [],
   "source": [
    "#GET HISTORICAL DATA FOR (SYMBOL / INTERVAL/ LAST X MIN )\n",
    "pd.DataFrame(client.get_historical_klines('BTCUSDT', '1m','30 min ago UTC'))"
   ]
  },
  {
   "cell_type": "code",
   "execution_count": null,
   "metadata": {},
   "outputs": [],
   "source": [
    "#DATAFRAME FOR HISTORICAL DATA\n",
    "def getminutedata(symbol, interval, lookback):\n",
    "    frame = pd.DataFrame(client.get_historical_klines(symbol, interval,lookback +'min ago UTC'))\n",
    "    frame = frame.iloc[:,:6]\n",
    "    frame.columns = ['Time','Open','Hight','Low','Close','Volume']\n",
    "    frame= frame.set_index('Time')\n",
    "    frame.index = pd.to_datetime(frame.index, unit='ms')\n",
    "    frame = frame.astype(float)\n",
    "    return frame\n",
    "\n"
   ]
  },
  {
   "cell_type": "code",
   "execution_count": null,
   "metadata": {},
   "outputs": [],
   "source": [
    "#DATAFRAME FOR EXECUTED ORDERS \n",
    "def createframe(order): \n",
    "    df_2 = pd.DataFrame([order])\n",
    "    df_2 = df_2.loc[:,['symbol', 'side', 'type', 'status','executedQty','cummulativeQuoteQty','PnL','transactTime']]\n",
    "    df_2.columns = ['symbol', 'side','type', 'status','executedQty','cummulativeQuoteQty','PnL','transactTime']\n",
    "    df_2.transactTime= df_2.transactTime.astype(float)\n",
    "    return df_2"
   ]
  },
  {
   "cell_type": "code",
   "execution_count": null,
   "metadata": {},
   "outputs": [],
   "source": [
    "#DATAFRAME WILL BE STORED IN SQL FILE THROUGH THE ENGINE\n",
    "def orderToSql(order): \n",
    "    frame = createframe(order)\n",
    "    frame.to_sql('TraidsUSDTBUSD', engine_2, if_exists='append', index= False) "
   ]
  },
  {
   "cell_type": "code",
   "execution_count": null,
   "metadata": {},
   "outputs": [],
   "source": [
    "#TRADING STRATEGIE & BOT \n",
    "#SIMPLE TREND FOLLOWING - IF PRICE RISES FOR TIME X THE BOT WILL PLACE AN ORDER AND SELLS IF PRICE IS HIGHER (TO GAIN PROFIT) OR LOWER (TO CUT LOSS) THAN X% \n",
    "async def strategytest(symbol, qty, entried=False):\n",
    "    df = getminutedata(symbol,'1m','30')\n",
    "    cumulret = (df.Open.pct_change() +1).cumprod()-1\n",
    "    socket = bsm.trade_socket(symbol)\n",
    "    if not entried:\n",
    "            if cumulret[-1]< -0.0002:\n",
    "                order = client.create_order(symbol = symbol, side ='BUY', type='MARKET', quantity = qty)\n",
    "                PnL = '0'\n",
    "                order['PnL'] = PnL\n",
    "                buyprice = float(order['fills'][0]['price'])\n",
    "                orderToSql(order)\n",
    "                print(order)\n",
    "                entried=True\n",
    "        \n",
    "            else:\n",
    "                print('no trade has been executed')\n",
    "                \n",
    "    if entried:\n",
    "        while True: \n",
    "            await socket.__aenter__()\n",
    "            df =  getminutedata(symbol,'1m','30')\n",
    "            sincebuy = df.loc[df.index > pd.to_datetime(order ['transactTime'],unit='ms')]\n",
    "            if len(sincebuy) > 0:\n",
    "                sincebuyret = (sincebuy.Open.pct_change() +1).cumprod()-1\n",
    "                if sincebuyret[-1] > 0.0015 or sincebuyret[-1] < 0.0015:\n",
    "                    order = client.create_order(symbol = symbol, side ='SELL', type='MARKET', quantity = qty)\n",
    "                    sellprice = float(order['fills'][0]['price'])\n",
    "                    PnL = (buyprice - sellprice)\n",
    "                    order['PnL'] = PnL\n",
    "                    len(order)     \n",
    "                    orderToSql(order)\n",
    "                    print(order)\n",
    "            \n",
    "                    break "
   ]
  },
  {
   "cell_type": "markdown",
   "metadata": {},
   "source": []
  },
  {
   "cell_type": "code",
   "execution_count": null,
   "metadata": {},
   "outputs": [],
   "source": [
    "#EXECUTION OF THE MAIN FUNCTION\n",
    "try:\n",
    "    while True:\n",
    "        await strategytest('BTCUSDT', 0.001 )\n",
    "except KeyboardInterrupt:\n",
    "    print('interrupted!') "
   ]
  },
  {
   "cell_type": "code",
   "execution_count": null,
   "metadata": {},
   "outputs": [],
   "source": []
  }
 ],
 "metadata": {
  "interpreter": {
   "hash": "55487ab176362cd38a0ee39c2bc8efbe895e21535949c7407ec91d6a862269e5"
  },
  "kernelspec": {
   "display_name": "Python 3.9.12 ('bot1')",
   "language": "python",
   "name": "python3"
  },
  "language_info": {
   "codemirror_mode": {
    "name": "ipython",
    "version": 3
   },
   "file_extension": ".py",
   "mimetype": "text/x-python",
   "name": "python",
   "nbconvert_exporter": "python",
   "pygments_lexer": "ipython3",
   "version": "3.9.12"
  },
  "orig_nbformat": 4
 },
 "nbformat": 4,
 "nbformat_minor": 2
}
