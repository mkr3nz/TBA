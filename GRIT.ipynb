{
 "cells": [
  {
   "cell_type": "code",
   "execution_count": 2,
   "metadata": {},
   "outputs": [
    {
     "name": "stdout",
     "output_type": "stream",
     "text": [
      "pygame 2.1.2 (SDL 2.0.18, Python 3.9.12)\n",
      "Hello from the pygame community. https://www.pygame.org/contribute.html\n"
     ]
    }
   ],
   "source": [
    "import sys\n",
    "import greenlet\n",
    "import pygame\n",
    "from pygame.locals import KEYDOWN, K_q, K_SPACE\n",
    "import numpy as np\n",
    "import sqlalchemy\n",
    "import sched, time\n",
    "import random\n",
    "import pandas as pd\n",
    "import time"
   ]
  },
  {
   "cell_type": "code",
   "execution_count": 3,
   "metadata": {},
   "outputs": [],
   "source": [
    "# CONSTANTS:\n",
    "SCREENSIZE = WIDTH, HEIGHT = 1200, 1800\n",
    "BLACK  = (0, 0,0)\n",
    "YELLOW = (244,229,0)\n",
    "GREEN  = (0,142,91)\n",
    "BLUE   = (42,113,176)\n",
    "RED    = (227,35,34)\n",
    "GREY   = (160, 60,160)\n",
    "PINK   = (255,192,203)\n",
    "WHITE  = (255,255,255)\n",
    "GOLD   = (255,215,0)"
   ]
  },
  {
   "cell_type": "code",
   "execution_count": 4,
   "metadata": {},
   "outputs": [],
   "source": [
    "#CALLING SQL DB / SAVED TRAIDS \n",
    "engine= sqlalchemy.create_engine('sqlite:///TraidsUSDTBUSD.db')\n",
    "pd.read_sql('SELECT side, PnL FROM TraidsUSDTBUSD', engine)\n",
    "df = pd.DataFrame(pd.read_sql('SELECT side, symbol, cummulativeQuoteQty, PnL FROM TraidsUSDTBUSD', engine))#cummulativeQuoteQty"
   ]
  },
  {
   "cell_type": "code",
   "execution_count": 5,
   "metadata": {},
   "outputs": [
    {
     "ename": "SystemExit",
     "evalue": "",
     "output_type": "error",
     "traceback": [
      "An exception has occurred, use %tb to see the full traceback.\n",
      "\u001b[0;31mSystemExit\u001b[0m\n"
     ]
    },
    {
     "name": "stderr",
     "output_type": "stream",
     "text": [
      "/Users/mojjo/opt/anaconda3/envs/bot1/lib/python3.9/site-packages/IPython/core/interactiveshell.py:3405: UserWarning: To exit: use 'exit', 'quit', or Ctrl-D.\n",
      "  warn(\"To exit: use 'exit', 'quit', or Ctrl-D.\", stacklevel=1)\n"
     ]
    }
   ],
   "source": [
    "#DEFINING CONDITIONS / RULES TO FILL THE ARRAY\n",
    "sorted_traids = []\n",
    "\n",
    "for i in range(len(df[1:77])):\n",
    "    if  df.loc[i]['side'] == 'BUY' and df.loc[i]['symbol'] == 'BTCUSDT':\n",
    "        sorted_traids.append(1)\n",
    "    elif df.loc[i]['side'] == 'BUY' and df.loc[i]['symbol'] == 'BTCBUSD':\n",
    "        sorted_traids.append(2)\n",
    "    elif df.loc[i]['cummulativeQuoteQty'] > df.loc[i-1]['cummulativeQuoteQty']:\n",
    "        sorted_traids.append(3)\n",
    "    elif df.loc[i]['cummulativeQuoteQty'] < df.loc[i-1]['cummulativeQuoteQty']:\n",
    "         sorted_traids.append(4)\n",
    "\n",
    "for i in range(len(df[77:78])):\n",
    "    if df['PnL'][1:99].sum() > df['PnL'][1:77].sum():\n",
    "        sorted_traids.append(5)\n",
    "    elif df['PnL'][1:99].sum() < df['PnL'][1:77].sum():\n",
    "        sorted_traids.append(6)  \n",
    "        \n",
    "#DEF ARRAY\n",
    "cellMAP = np.array(sorted_traids[0:77])\n",
    "cellMAP = cellMAP.reshape(11,7)\n",
    "cellMAP = np.transpose(cellMAP)\n",
    "\n",
    "#DEF. GRID\n",
    "_VARS = {'surf': False, 'gridWH': 1000,\n",
    "         'gridOrigin': (100, 100), 'gridCells': cellMAP.shape[0], 'lineWidth': 5}\n",
    "\n",
    "#MAINFUNKTION FOR PYGAME\n",
    "def main():\n",
    "    pygame.init()\n",
    "    _VARS['surf'] = pygame.display.set_mode(SCREENSIZE)\n",
    "    while True:\n",
    "        checkEvents()\n",
    "        _VARS['surf'].fill(WHITE)\n",
    "        drawSquareGrid(\n",
    "         _VARS['gridOrigin'], _VARS['gridWH'], _VARS['gridCells'])\n",
    "\n",
    "#SCREENSHOT \n",
    "        for event in pygame.event.get():\n",
    "             if event.type == KEYDOWN and event.key == K_SPACE:\n",
    "                pygame.image.save(pygame.display.set_mode(SCREENSIZE), \"screenshot\"+\".png\")\n",
    "        placeCells()\n",
    "        pygame.display.update()\n",
    "\n",
    "\n",
    "#ADDING CELLS :\n",
    "def placeCells():\n",
    "    cellBorder = 5\n",
    "    celldimX = celldimY = (_VARS['gridWH']/_VARS['gridCells']) - (cellBorder*2)\n",
    "    for row in range(cellMAP.shape[0]):\n",
    "        for column in range(cellMAP.shape[1]):\n",
    "            value = cellMAP[row][column]\n",
    "            drawSquareCell(\n",
    "                _VARS['gridOrigin'][0] + (celldimY*row)\n",
    "                + cellBorder + (2*row*cellBorder) + _VARS['lineWidth']/2,\n",
    "                _VARS['gridOrigin'][1] + (celldimX*column) \n",
    "                + cellBorder + (2*column*cellBorder) + _VARS['lineWidth']/2,\n",
    "                celldimX, celldimY, value)\n",
    "\n",
    "#DEF. COLORS FOR ITEMS IN ARRAY\n",
    "def drawSquareCell(x, y, dimX, dimY, value):\n",
    "   \n",
    "    if value == 1: pygame.draw.rect(\n",
    "                    _VARS['surf'], BLUE,\n",
    "                    (x, y, dimX, dimY))\n",
    "    elif value == 2: pygame.draw.rect(\n",
    "                    _VARS['surf'], YELLOW,\n",
    "                    (x, y, dimX, dimY))   \n",
    "    elif value == 3: pygame.draw.rect(\n",
    "                    _VARS['surf'], GREEN,\n",
    "                    (x, y, dimX, dimY))     \n",
    "    elif value == 4: pygame.draw.rect(\n",
    "                    _VARS['surf'], RED,\n",
    "                    (x, y, dimX, dimY))  \n",
    "    elif value == 5: pygame.draw.rect(\n",
    "                    _VARS['surf'], PINK,\n",
    "                    (x, y, dimX, dimY))           \n",
    "    else: pygame.draw.rect(\n",
    "                        _VARS['surf'], GOLD,\n",
    "                        (x, y, dimX, dimY)) \n",
    "\n",
    "def drawSquareGrid(origin, gridWH, cells):\n",
    "\n",
    "    CONTAINER_WIDTH_HEIGHT = gridWH\n",
    "    cont_x, cont_y = origin\n",
    "\n",
    "#DRAW GRIT BRODER   \n",
    "#TOP lEFT TO RIGHT\n",
    "    pygame.draw.line(\n",
    "      _VARS['surf'], WHITE,\n",
    "      (cont_x, cont_y,),\n",
    "      ((CONTAINER_WIDTH_HEIGHT)+ cont_x, cont_y,), _VARS['lineWidth'])\n",
    "#BOTTOM lEFT TO RIGHT\n",
    "    pygame.draw.line(\n",
    "      _VARS['surf'], WHITE,\n",
    "      (cont_x, CONTAINER_WIDTH_HEIGHT + cont_y +5),\n",
    "      (CONTAINER_WIDTH_HEIGHT + cont_x,\n",
    "       CONTAINER_WIDTH_HEIGHT + cont_y), _VARS['lineWidth'])\n",
    "#LEFT TOP TO BOTTOM\n",
    "    pygame.draw.line(\n",
    "      _VARS['surf'], WHITE,\n",
    "      (cont_x, cont_y),\n",
    "      (cont_x, cont_y + CONTAINER_WIDTH_HEIGHT), _VARS['lineWidth'])\n",
    "#RIGHT TOP TO BOTTOM\n",
    "    pygame.draw.line(\n",
    "      _VARS['surf'], WHITE,\n",
    "      (CONTAINER_WIDTH_HEIGHT + cont_x, cont_y),\n",
    "      (CONTAINER_WIDTH_HEIGHT + cont_x,\n",
    "       CONTAINER_WIDTH_HEIGHT + cont_y), _VARS['lineWidth'])\n",
    "\n",
    "#CELL SIZE FOR SQUARE GRID\n",
    "    cellSize = CONTAINER_WIDTH_HEIGHT/cells\n",
    "\n",
    "#VERTICAL DIVISIONS: (0,1,2) for grid(3) for example\n",
    "    for x in range(cells):\n",
    "        pygame.draw.line(\n",
    "           _VARS['surf'], WHITE,\n",
    "           (cont_x + (cellSize * x), cont_y),\n",
    "           (cont_x + (cellSize * x), CONTAINER_WIDTH_HEIGHT + cont_y), 5)\n",
    "#HORIZONTAl DIVISIONS\n",
    "        pygame.draw.line(\n",
    "          _VARS['surf'], WHITE,\n",
    "          (cont_x, cont_y + (cellSize*x)),\n",
    "          (cont_x + CONTAINER_WIDTH_HEIGHT, cont_y + (cellSize*x)), 5)\n",
    "\n",
    "\n",
    "def checkEvents():\n",
    "    for event in pygame.event.get():\n",
    "        if event.type == pygame.QUIT:\n",
    "            sys.exit()\n",
    "        elif event.type == KEYDOWN and event.key == K_q:\n",
    "            pygame.quit()\n",
    "            sys.exit()\n",
    "\n",
    "\n",
    "if __name__ == '__main__':\n",
    "     main()\n"
   ]
  },
  {
   "cell_type": "code",
   "execution_count": null,
   "metadata": {},
   "outputs": [],
   "source": []
  },
  {
   "cell_type": "code",
   "execution_count": null,
   "metadata": {},
   "outputs": [],
   "source": []
  }
 ],
 "metadata": {
  "kernelspec": {
   "display_name": "Python 3 (ipykernel)",
   "language": "python",
   "name": "python3"
  },
  "language_info": {
   "codemirror_mode": {
    "name": "ipython",
    "version": 3
   },
   "file_extension": ".py",
   "mimetype": "text/x-python",
   "name": "python",
   "nbconvert_exporter": "python",
   "pygments_lexer": "ipython3",
   "version": "3.9.12"
  },
  "vscode": {
   "interpreter": {
    "hash": "55487ab176362cd38a0ee39c2bc8efbe895e21535949c7407ec91d6a862269e5"
   }
  }
 },
 "nbformat": 4,
 "nbformat_minor": 4
}
